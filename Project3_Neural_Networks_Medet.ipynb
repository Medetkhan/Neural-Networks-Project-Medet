{
  "nbformat": 4,
  "nbformat_minor": 0,
  "metadata": {
    "colab": {
      "provenance": [],
      "gpuType": "T4",
      "authorship_tag": "ABX9TyOETLnJ6gaqTZEXv1cJyRWt",
      "include_colab_link": true
    },
    "kernelspec": {
      "name": "python3",
      "display_name": "Python 3"
    },
    "language_info": {
      "name": "python"
    },
    "accelerator": "GPU"
  },
  "cells": [
    {
      "cell_type": "markdown",
      "metadata": {
        "id": "view-in-github",
        "colab_type": "text"
      },
      "source": [
        "<a href=\"https://colab.research.google.com/github/Medetkhan/Neural-Networks-Project-Medet/blob/main/Project3_Neural_Networks_Medet.ipynb\" target=\"_parent\"><img src=\"https://colab.research.google.com/assets/colab-badge.svg\" alt=\"Open In Colab\"/></a>"
      ]
    },
    {
      "cell_type": "code",
      "execution_count": 1,
      "metadata": {
        "id": "ZWPFCE6aT_Og"
      },
      "outputs": [],
      "source": [
        "import pandas as pd\n",
        "import numpy as np\n",
        "import matplotlib.pyplot as plt\n",
        "\n",
        "%matplotlib inline"
      ]
    },
    {
      "cell_type": "code",
      "source": [
        "from google.colab import drive\n",
        "drive.mount('/content/drive')"
      ],
      "metadata": {
        "colab": {
          "base_uri": "https://localhost:8080/"
        },
        "id": "amfXW4jcXBlY",
        "outputId": "048377ff-352e-4ccd-f29a-f4d88639f403"
      },
      "execution_count": 2,
      "outputs": [
        {
          "output_type": "stream",
          "name": "stdout",
          "text": [
            "Mounted at /content/drive\n"
          ]
        }
      ]
    },
    {
      "cell_type": "code",
      "source": [
        "import tensorflow as tf\n",
        "from tensorflow import keras"
      ],
      "metadata": {
        "id": "C1xA_phZXC9j"
      },
      "execution_count": 3,
      "outputs": []
    },
    {
      "cell_type": "code",
      "source": [
        "from tensorflow.keras.preprocessing.image import load_img"
      ],
      "metadata": {
        "id": "X0Y-qunCXtAe"
      },
      "execution_count": 4,
      "outputs": []
    },
    {
      "cell_type": "code",
      "source": [
        "#Создание своих слоев CNN"
      ],
      "metadata": {
        "id": "sJv4UztNiZlw"
      },
      "execution_count": 5,
      "outputs": []
    },
    {
      "cell_type": "code",
      "source": [
        "from tensorflow.keras import models\n",
        "from tensorflow.keras import layers"
      ],
      "metadata": {
        "id": "R1wGADYGm8zy"
      },
      "execution_count": 6,
      "outputs": []
    },
    {
      "cell_type": "code",
      "source": [
        "model = models.Sequential()"
      ],
      "metadata": {
        "id": "yeVOhxB0nQFT"
      },
      "execution_count": 7,
      "outputs": []
    },
    {
      "cell_type": "code",
      "source": [
        "model.add(layers.InputLayer(input_shape=(150,150,3)))"
      ],
      "metadata": {
        "id": "faM5Wnh4pIah"
      },
      "execution_count": 8,
      "outputs": []
    },
    {
      "cell_type": "code",
      "source": [
        "model.add(layers.Conv2D(32, kernel_size=(3,3)))"
      ],
      "metadata": {
        "id": "u6-hEY5MovSl"
      },
      "execution_count": 9,
      "outputs": []
    },
    {
      "cell_type": "code",
      "source": [
        "model.add(layers.MaxPooling2D(pool_size=(2,2)))"
      ],
      "metadata": {
        "id": "rok6EYWGxwFH"
      },
      "execution_count": 10,
      "outputs": []
    },
    {
      "cell_type": "code",
      "source": [
        "#model.add(layers.Dense(50, activation = 'relu'))\n"
      ],
      "metadata": {
        "id": "kcYgesfsx2PW"
      },
      "execution_count": 11,
      "outputs": []
    },
    {
      "cell_type": "code",
      "source": [
        "model.add(layers.Flatten())"
      ],
      "metadata": {
        "id": "UFq9S93gyJh3"
      },
      "execution_count": 12,
      "outputs": []
    },
    {
      "cell_type": "code",
      "source": [
        "model.add(layers.Dense(64, activation='relu'))"
      ],
      "metadata": {
        "id": "j4A0w90XyOlO"
      },
      "execution_count": 13,
      "outputs": []
    },
    {
      "cell_type": "code",
      "source": [
        "model.add(layers.Dense(1, activation = 'sigmoid'))"
      ],
      "metadata": {
        "id": "iT8Lxt4qx5OT"
      },
      "execution_count": 14,
      "outputs": []
    },
    {
      "cell_type": "code",
      "source": [
        "from keras.src.optimizers import SGD\n",
        "loss = keras.losses.BinaryCrossentropy(from_logits=False)\n",
        "model.compile(optimizer=SGD(learning_rate = 0.002, momentum=0.8), loss=loss, metrics=['accuracy'])"
      ],
      "metadata": {
        "id": "55wR5Xrcytf1"
      },
      "execution_count": 15,
      "outputs": []
    },
    {
      "cell_type": "code",
      "source": [
        "model.summary()"
      ],
      "metadata": {
        "colab": {
          "base_uri": "https://localhost:8080/"
        },
        "id": "z5tuqsUbaDKc",
        "outputId": "1703e22a-94e7-4905-de4e-23b14b7671aa"
      },
      "execution_count": 16,
      "outputs": [
        {
          "output_type": "stream",
          "name": "stdout",
          "text": [
            "Model: \"sequential\"\n",
            "_________________________________________________________________\n",
            " Layer (type)                Output Shape              Param #   \n",
            "=================================================================\n",
            " conv2d (Conv2D)             (None, 148, 148, 32)      896       \n",
            "                                                                 \n",
            " max_pooling2d (MaxPooling2  (None, 74, 74, 32)        0         \n",
            " D)                                                              \n",
            "                                                                 \n",
            " flatten (Flatten)           (None, 175232)            0         \n",
            "                                                                 \n",
            " dense (Dense)               (None, 64)                11214912  \n",
            "                                                                 \n",
            " dense_1 (Dense)             (None, 1)                 65        \n",
            "                                                                 \n",
            "=================================================================\n",
            "Total params: 11215873 (42.79 MB)\n",
            "Trainable params: 11215873 (42.79 MB)\n",
            "Non-trainable params: 0 (0.00 Byte)\n",
            "_________________________________________________________________\n"
          ]
        }
      ]
    },
    {
      "cell_type": "code",
      "source": [
        "#загрузим данные для тренинга и теста"
      ],
      "metadata": {
        "id": "jwxazJMv5QE8"
      },
      "execution_count": 17,
      "outputs": []
    },
    {
      "cell_type": "code",
      "source": [
        "from tensorflow.keras.preprocessing.image import ImageDataGenerator"
      ],
      "metadata": {
        "id": "rZcaOGXE5aPf"
      },
      "execution_count": 18,
      "outputs": []
    },
    {
      "cell_type": "code",
      "source": [
        "train_gen = ImageDataGenerator(rescale=1./255) #preprocessing_function=preprocess_input\n",
        "\n",
        "train_ds = train_gen.flow_from_directory(\n",
        "    '/content/drive/MyDrive/dino-dragon-dataset/train',\n",
        "    target_size=(150, 150),\n",
        "    batch_size=20,\n",
        "    class_mode='binary'\n",
        ")"
      ],
      "metadata": {
        "colab": {
          "base_uri": "https://localhost:8080/"
        },
        "id": "bF9Xj1tK5d3z",
        "outputId": "d7136d74-8a52-4aec-80fd-b90ba4ac6920"
      },
      "execution_count": 19,
      "outputs": [
        {
          "output_type": "stream",
          "name": "stdout",
          "text": [
            "Found 1594 images belonging to 2 classes.\n"
          ]
        }
      ]
    },
    {
      "cell_type": "code",
      "source": [
        "train_ds.class_indices"
      ],
      "metadata": {
        "colab": {
          "base_uri": "https://localhost:8080/"
        },
        "id": "LDzo2Mgi51tQ",
        "outputId": "bbb5d9a0-1590-47d0-b18e-a14aedc51fff"
      },
      "execution_count": 20,
      "outputs": [
        {
          "output_type": "execute_result",
          "data": {
            "text/plain": [
              "{'dino': 0, 'dragon': 1}"
            ]
          },
          "metadata": {},
          "execution_count": 20
        }
      ]
    },
    {
      "cell_type": "code",
      "source": [
        "val_gen = ImageDataGenerator(rescale=1./255)\n",
        "\n",
        "val_ds = val_gen.flow_from_directory(\n",
        "    '/content/drive/MyDrive/dino-dragon-dataset/test',\n",
        "    target_size=(150, 150),\n",
        "    batch_size=20,\n",
        "    shuffle=True,\n",
        "    class_mode='binary'\n",
        ")"
      ],
      "metadata": {
        "colab": {
          "base_uri": "https://localhost:8080/"
        },
        "id": "1vwMDxZH5624",
        "outputId": "daa662c2-2949-4a71-bbbb-5a2e5c0cdbd4"
      },
      "execution_count": 21,
      "outputs": [
        {
          "output_type": "stream",
          "name": "stdout",
          "text": [
            "Found 394 images belonging to 2 classes.\n"
          ]
        }
      ]
    },
    {
      "cell_type": "code",
      "source": [
        "val_ds.class_indices"
      ],
      "metadata": {
        "colab": {
          "base_uri": "https://localhost:8080/"
        },
        "id": "LPJSKsCVT89p",
        "outputId": "948fa96e-7371-440d-9110-9e3b1fafd4a0"
      },
      "execution_count": 22,
      "outputs": [
        {
          "output_type": "execute_result",
          "data": {
            "text/plain": [
              "{'dino': 0, 'dragon': 1}"
            ]
          },
          "metadata": {},
          "execution_count": 22
        }
      ]
    },
    {
      "cell_type": "code",
      "source": [
        "history = model.fit(train_ds, epochs=10, validation_data=val_ds)"
      ],
      "metadata": {
        "colab": {
          "base_uri": "https://localhost:8080/"
        },
        "id": "lgK6v3wa2h-g",
        "outputId": "d357b8a0-27e6-427c-aee7-494528fb7e97"
      },
      "execution_count": 23,
      "outputs": [
        {
          "output_type": "stream",
          "name": "stdout",
          "text": [
            "Epoch 1/10\n",
            "80/80 [==============================] - 384s 5s/step - loss: 0.6490 - accuracy: 0.6217 - val_loss: 0.5676 - val_accuracy: 0.7284\n",
            "Epoch 2/10\n",
            "80/80 [==============================] - 8s 101ms/step - loss: 0.5418 - accuracy: 0.7240 - val_loss: 0.4862 - val_accuracy: 0.7766\n",
            "Epoch 3/10\n",
            "80/80 [==============================] - 8s 105ms/step - loss: 0.4374 - accuracy: 0.8068 - val_loss: 0.4631 - val_accuracy: 0.7817\n",
            "Epoch 4/10\n",
            "80/80 [==============================] - 7s 89ms/step - loss: 0.3997 - accuracy: 0.8262 - val_loss: 0.4284 - val_accuracy: 0.8122\n",
            "Epoch 5/10\n",
            "80/80 [==============================] - 8s 101ms/step - loss: 0.3480 - accuracy: 0.8469 - val_loss: 0.3882 - val_accuracy: 0.8249\n",
            "Epoch 6/10\n",
            "80/80 [==============================] - 7s 91ms/step - loss: 0.3385 - accuracy: 0.8639 - val_loss: 0.3791 - val_accuracy: 0.8503\n",
            "Epoch 7/10\n",
            "80/80 [==============================] - 8s 99ms/step - loss: 0.2886 - accuracy: 0.8908 - val_loss: 0.3650 - val_accuracy: 0.8350\n",
            "Epoch 8/10\n",
            "80/80 [==============================] - 7s 93ms/step - loss: 0.2686 - accuracy: 0.9003 - val_loss: 0.3705 - val_accuracy: 0.8350\n",
            "Epoch 9/10\n",
            "80/80 [==============================] - 8s 96ms/step - loss: 0.2212 - accuracy: 0.9291 - val_loss: 0.4007 - val_accuracy: 0.8249\n",
            "Epoch 10/10\n",
            "80/80 [==============================] - 8s 97ms/step - loss: 0.1968 - accuracy: 0.9329 - val_loss: 0.4961 - val_accuracy: 0.7817\n"
          ]
        }
      ]
    },
    {
      "cell_type": "code",
      "source": [
        "# from keras.callbacks import Callback\n",
        "\n",
        "# class AccuracyHistory(Callback):\n",
        "#   def on_train_begin(self, logs={}):\n",
        "#     self.accuracies = []\n",
        "\n",
        "#   def on_epoch_end(self, epoch, logs={}):\n",
        "#     self.accuracies.append(logs.get('accuracy'))"
      ],
      "metadata": {
        "id": "R8GRxK9Kmv0P"
      },
      "execution_count": 24,
      "outputs": []
    },
    {
      "cell_type": "code",
      "source": [
        "score = model.accuracy_score()"
      ],
      "metadata": {
        "id": "aqcd3NicaCcC",
        "colab": {
          "base_uri": "https://localhost:8080/",
          "height": 175
        },
        "outputId": "1fabd096-9f21-4786-d303-addcb66e4caa"
      },
      "execution_count": 25,
      "outputs": [
        {
          "output_type": "error",
          "ename": "AttributeError",
          "evalue": "ignored",
          "traceback": [
            "\u001b[0;31m---------------------------------------------------------------------------\u001b[0m",
            "\u001b[0;31mAttributeError\u001b[0m                            Traceback (most recent call last)",
            "\u001b[0;32m<ipython-input-25-a73c81421f01>\u001b[0m in \u001b[0;36m<cell line: 1>\u001b[0;34m()\u001b[0m\n\u001b[0;32m----> 1\u001b[0;31m \u001b[0mscore\u001b[0m \u001b[0;34m=\u001b[0m \u001b[0mmodel\u001b[0m\u001b[0;34m.\u001b[0m\u001b[0maccuracy_score\u001b[0m\u001b[0;34m(\u001b[0m\u001b[0;34m)\u001b[0m\u001b[0;34m\u001b[0m\u001b[0;34m\u001b[0m\u001b[0m\n\u001b[0m",
            "\u001b[0;31mAttributeError\u001b[0m: 'Sequential' object has no attribute 'accuracy_score'"
          ]
        }
      ]
    },
    {
      "cell_type": "code",
      "source": [
        "plt.plot(history.history['accuracy'], label='train')\n",
        "plt.plot(history.history['val_accuracy'], label='val')\n",
        "plt.xticks(np.arange(10))\n",
        "plt.legend()"
      ],
      "metadata": {
        "colab": {
          "base_uri": "https://localhost:8080/",
          "height": 447
        },
        "id": "dju9_jRuBCwo",
        "outputId": "e78e6996-fcb3-49a6-f974-710b3f934b46"
      },
      "execution_count": 26,
      "outputs": [
        {
          "output_type": "execute_result",
          "data": {
            "text/plain": [
              "<matplotlib.legend.Legend at 0x7c7781ffdc00>"
            ]
          },
          "metadata": {},
          "execution_count": 26
        },
        {
          "output_type": "display_data",
          "data": {
            "text/plain": [
              "<Figure size 640x480 with 1 Axes>"
            ],
            "image/png": "[encoded data removed]"
          },
          "metadata": {}
        }
      ]
    },
    {
      "cell_type": "code",
      "source": [
        "#epoch_accuracies = accuracy_history.accuracies"
      ],
      "metadata": {
        "id": "8GELcfA0BjIc"
      },
      "execution_count": 27,
      "outputs": []
    },
    {
      "cell_type": "code",
      "source": [
        "#Какова медиана точности обучения по всем эпохам?\n",
        "train_accuracy = history.history['accuracy']"
      ],
      "metadata": {
        "id": "lC6kjBkLG8Bw"
      },
      "execution_count": 28,
      "outputs": []
    },
    {
      "cell_type": "code",
      "source": [
        "val_accuracy = history.history['val_accuracy']"
      ],
      "metadata": {
        "id": "lrdAnVOFHEhY"
      },
      "execution_count": 29,
      "outputs": []
    },
    {
      "cell_type": "code",
      "source": [
        "train_median = np.median(train_accuracy)"
      ],
      "metadata": {
        "id": "hW0Mkc0hHK_L"
      },
      "execution_count": 30,
      "outputs": []
    },
    {
      "cell_type": "code",
      "source": [
        "val_median = np.median(val_accuracy)"
      ],
      "metadata": {
        "id": "26s9ZRdkHRWd"
      },
      "execution_count": 31,
      "outputs": []
    },
    {
      "cell_type": "code",
      "source": [
        "train_median"
      ],
      "metadata": {
        "colab": {
          "base_uri": "https://localhost:8080/"
        },
        "id": "igVI0Xd6HXJw",
        "outputId": "921f224d-61f2-4c42-ab79-abc5276762b9"
      },
      "execution_count": 32,
      "outputs": [
        {
          "output_type": "execute_result",
          "data": {
            "text/plain": [
              "0.8553952276706696"
            ]
          },
          "metadata": {},
          "execution_count": 32
        }
      ]
    },
    {
      "cell_type": "code",
      "source": [
        "val_median"
      ],
      "metadata": {
        "colab": {
          "base_uri": "https://localhost:8080/"
        },
        "id": "nV8OP-FuHdKu",
        "outputId": "4e7b0bbd-cd63-461c-d90b-b6c7f20205e2"
      },
      "execution_count": 33,
      "outputs": [
        {
          "output_type": "execute_result",
          "data": {
            "text/plain": [
              "0.8185279071331024"
            ]
          },
          "metadata": {},
          "execution_count": 33
        }
      ]
    },
    {
      "cell_type": "code",
      "source": [
        "#Каково стандартное отклонение потерь в процессе обучения по всем эпохам?\n",
        "train_std = np.std(train_accuracy)"
      ],
      "metadata": {
        "id": "RB0RO2UdHikz"
      },
      "execution_count": 34,
      "outputs": []
    },
    {
      "cell_type": "code",
      "source": [
        "train_std"
      ],
      "metadata": {
        "colab": {
          "base_uri": "https://localhost:8080/"
        },
        "id": "zieEKYYLH6CK",
        "outputId": "0733e207-4faf-4579-8d13-5550c47c78b6"
      },
      "execution_count": 35,
      "outputs": [
        {
          "output_type": "execute_result",
          "data": {
            "text/plain": [
              "0.09245430598412328"
            ]
          },
          "metadata": {},
          "execution_count": 35
        }
      ]
    },
    {
      "cell_type": "code",
      "source": [
        "train_losses = history.history['loss']"
      ],
      "metadata": {
        "id": "pZaEnqUVK8tb"
      },
      "execution_count": 36,
      "outputs": []
    },
    {
      "cell_type": "code",
      "source": [
        "val_std=np.std(train_losses)"
      ],
      "metadata": {
        "id": "v1_jxd3_HzU0"
      },
      "execution_count": 37,
      "outputs": []
    },
    {
      "cell_type": "code",
      "source": [
        "val_std"
      ],
      "metadata": {
        "colab": {
          "base_uri": "https://localhost:8080/"
        },
        "id": "_cwtzlF3H8qP",
        "outputId": "a72ae1cb-e3ef-4a2c-b91a-b100ec57506f"
      },
      "execution_count": 38,
      "outputs": [
        {
          "output_type": "execute_result",
          "data": {
            "text/plain": [
              "0.13538839415107812"
            ]
          },
          "metadata": {},
          "execution_count": 38
        }
      ]
    },
    {
      "cell_type": "code",
      "source": [
        "#аугментация данных\n",
        "from PIL import Image"
      ],
      "metadata": {
        "id": "e06Nx0r2Sivo"
      },
      "execution_count": 39,
      "outputs": []
    },
    {
      "cell_type": "code",
      "source": [
        "datagen = ImageDataGenerator(\n",
        "    rescale=1./255,\n",
        "    rotation_range=40,\n",
        "    width_shift_range=0.2,\n",
        "    height_shift_range=0.2,\n",
        "    shear_range=0.2,\n",
        "    zoom_range=0.2,\n",
        "    horizontal_flip=True,\n",
        "    fill_mode='nearest'\n",
        ")"
      ],
      "metadata": {
        "id": "EyO4TFszXKlX"
      },
      "execution_count": 40,
      "outputs": []
    },
    {
      "cell_type": "code",
      "source": [
        "train_generator = datagen.flow_from_directory(\n",
        "    '/content/drive/MyDrive/dino-dragon-dataset/train',\n",
        "    target_size=(150, 150),\n",
        "    batch_size=20,\n",
        "    class_mode='binary'  # Set to 'categorical' if you have multiple classes\n",
        ")"
      ],
      "metadata": {
        "colab": {
          "base_uri": "https://localhost:8080/"
        },
        "id": "s92_9NRrXM2e",
        "outputId": "02afb919-056b-49e3-bfe0-21873f6cb69c"
      },
      "execution_count": 41,
      "outputs": [
        {
          "output_type": "stream",
          "name": "stdout",
          "text": [
            "Found 1594 images belonging to 2 classes.\n"
          ]
        }
      ]
    },
    {
      "cell_type": "code",
      "source": [
        "test_datagen = ImageDataGenerator(rescale=1./255)"
      ],
      "metadata": {
        "id": "HCpbYcd-cQ7f"
      },
      "execution_count": 42,
      "outputs": []
    },
    {
      "cell_type": "code",
      "source": [
        "validation_generator = test_datagen.flow_from_directory(\n",
        "    '/content/drive/MyDrive/dino-dragon-dataset/test',\n",
        "    target_size=(150, 150),\n",
        "    batch_size=32,\n",
        "    class_mode='binary')"
      ],
      "metadata": {
        "colab": {
          "base_uri": "https://localhost:8080/"
        },
        "id": "LvvBV_qHcRml",
        "outputId": "c937bcb0-6aa3-47ab-ce54-99c045586cf6"
      },
      "execution_count": 43,
      "outputs": [
        {
          "output_type": "stream",
          "name": "stdout",
          "text": [
            "Found 394 images belonging to 2 classes.\n"
          ]
        }
      ]
    },
    {
      "cell_type": "code",
      "source": [
        "# checkpoint = keras.callbacks.ModelCheckpoint(\n",
        "#     'own_model_{epoch:02d}_{val_accuracy:.3f}.h5',\n",
        "#     save_best_only=True,\n",
        "#     monitor='val_accuracy',\n",
        "#     mode='max'\n",
        "# )"
      ],
      "metadata": {
        "id": "suiJ588rsVvu"
      },
      "execution_count": null,
      "outputs": []
    },
    {
      "cell_type": "code",
      "source": [
        "history = model.fit(train_generator, epochs=10, validation_data=validation_generator)"
      ],
      "metadata": {
        "colab": {
          "base_uri": "https://localhost:8080/"
        },
        "id": "zIO11jeJsrOk",
        "outputId": "8b470e88-6dc5-4da2-dcc1-b5d2932cffc6"
      },
      "execution_count": 44,
      "outputs": [
        {
          "output_type": "stream",
          "name": "stdout",
          "text": [
            "Epoch 1/10\n",
            "80/80 [==============================] - 18s 219ms/step - loss: 0.5362 - accuracy: 0.7403 - val_loss: 0.4164 - val_accuracy: 0.8147\n",
            "Epoch 2/10\n",
            "80/80 [==============================] - 17s 218ms/step - loss: 0.5210 - accuracy: 0.7465 - val_loss: 0.3736 - val_accuracy: 0.8299\n",
            "Epoch 3/10\n",
            "80/80 [==============================] - 16s 202ms/step - loss: 0.4813 - accuracy: 0.7698 - val_loss: 0.4476 - val_accuracy: 0.8096\n",
            "Epoch 4/10\n",
            "80/80 [==============================] - 16s 203ms/step - loss: 0.4591 - accuracy: 0.7836 - val_loss: 0.4247 - val_accuracy: 0.8096\n",
            "Epoch 5/10\n",
            "80/80 [==============================] - 16s 201ms/step - loss: 0.4648 - accuracy: 0.7829 - val_loss: 0.4450 - val_accuracy: 0.8046\n",
            "Epoch 6/10\n",
            "80/80 [==============================] - 16s 199ms/step - loss: 0.4688 - accuracy: 0.7729 - val_loss: 0.4133 - val_accuracy: 0.8198\n",
            "Epoch 7/10\n",
            "80/80 [==============================] - 17s 209ms/step - loss: 0.4613 - accuracy: 0.7880 - val_loss: 0.3555 - val_accuracy: 0.8299\n",
            "Epoch 8/10\n",
            "80/80 [==============================] - 16s 202ms/step - loss: 0.4502 - accuracy: 0.7936 - val_loss: 0.4139 - val_accuracy: 0.8071\n",
            "Epoch 9/10\n",
            "80/80 [==============================] - 17s 218ms/step - loss: 0.4572 - accuracy: 0.7836 - val_loss: 0.4106 - val_accuracy: 0.8274\n",
            "Epoch 10/10\n",
            "80/80 [==============================] - 16s 201ms/step - loss: 0.4423 - accuracy: 0.7974 - val_loss: 0.3404 - val_accuracy: 0.8579\n"
          ]
        }
      ]
    },
    {
      "cell_type": "code",
      "source": [
        "train_losses_augment = history.history['loss']\n",
        "train_losses_augment"
      ],
      "metadata": {
        "colab": {
          "base_uri": "https://localhost:8080/"
        },
        "id": "sW_CSmTDmSKT",
        "outputId": "b9d0c0de-16f0-4b6f-c851-7bbe651ee6f4"
      },
      "execution_count": 45,
      "outputs": [
        {
          "output_type": "execute_result",
          "data": {
            "text/plain": [
              "[0.5362452268600464,\n",
              " 0.5210400223731995,\n",
              " 0.48126837611198425,\n",
              " 0.4591176211833954,\n",
              " 0.46483922004699707,\n",
              " 0.468802273273468,\n",
              " 0.4612833261489868,\n",
              " 0.4501909911632538,\n",
              " 0.457202672958374,\n",
              " 0.44231635332107544]"
            ]
          },
          "metadata": {},
          "execution_count": 45
        }
      ]
    },
    {
      "cell_type": "code",
      "source": [
        "average_loss_augment = np.mean(train_losses_augment)\n",
        "average_loss_augment"
      ],
      "metadata": {
        "colab": {
          "base_uri": "https://localhost:8080/"
        },
        "id": "_Fzdp9htmffK",
        "outputId": "5f9105da-a452-43c3-b3d8-c9c92e5b4276"
      },
      "execution_count": 46,
      "outputs": [
        {
          "output_type": "execute_result",
          "data": {
            "text/plain": [
              "0.47423060834407804"
            ]
          },
          "metadata": {},
          "execution_count": 46
        }
      ]
    },
    {
      "cell_type": "code",
      "source": [
        "train_accur_augment = history.history['accuracy']"
      ],
      "metadata": {
        "id": "zORIlK9Gm5nI"
      },
      "execution_count": 47,
      "outputs": []
    },
    {
      "cell_type": "code",
      "source": [
        "average_accur_augment = np.mean(train_accur_augment[6:])\n",
        "average_accur_augment"
      ],
      "metadata": {
        "colab": {
          "base_uri": "https://localhost:8080/"
        },
        "id": "ddrB5-3vnAee",
        "outputId": "cf389e9b-f530-4174-efde-ab038afeee71"
      },
      "execution_count": 49,
      "outputs": [
        {
          "output_type": "execute_result",
          "data": {
            "text/plain": [
              "0.7906210720539093"
            ]
          },
          "metadata": {},
          "execution_count": 49
        }
      ]
    }
  ]
}